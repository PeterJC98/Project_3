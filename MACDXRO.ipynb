{
 "cells": [
  {
   "cell_type": "code",
   "execution_count": 55,
   "id": "d6aac914-e49e-4e72-894e-e02bb1a0c7b5",
   "metadata": {},
   "outputs": [
    {
     "name": "stdout",
     "output_type": "stream",
     "text": [
      "Requirement already satisfied: tensorflow-gpu==1.15.0 in c:\\users\\jimp\\anaconda3\\envs\\algotrading\\lib\\site-packages (1.15.0)\n",
      "Requirement already satisfied: tensorflow==1.15.0 in c:\\users\\jimp\\anaconda3\\envs\\algotrading\\lib\\site-packages (1.15.0)\n",
      "Requirement already satisfied: stable-baselines in c:\\users\\jimp\\anaconda3\\envs\\algotrading\\lib\\site-packages (2.10.2)\n",
      "Requirement already satisfied: gym-anytrading in c:\\users\\jimp\\anaconda3\\envs\\algotrading\\lib\\site-packages (1.3.1)\n",
      "Requirement already satisfied: gym in c:\\users\\jimp\\anaconda3\\envs\\algotrading\\lib\\site-packages (0.21.0)\n",
      "Requirement already satisfied: tensorboard<1.16.0,>=1.15.0 in c:\\users\\jimp\\anaconda3\\envs\\algotrading\\lib\\site-packages (from tensorflow-gpu==1.15.0) (1.15.0)\n",
      "Requirement already satisfied: protobuf>=3.6.1 in c:\\users\\jimp\\anaconda3\\envs\\algotrading\\lib\\site-packages (from tensorflow-gpu==1.15.0) (3.19.1)\n",
      "Requirement already satisfied: absl-py>=0.7.0 in c:\\users\\jimp\\anaconda3\\envs\\algotrading\\lib\\site-packages (from tensorflow-gpu==1.15.0) (1.2.0)\n",
      "Requirement already satisfied: opt-einsum>=2.3.2 in c:\\users\\jimp\\anaconda3\\envs\\algotrading\\lib\\site-packages (from tensorflow-gpu==1.15.0) (3.3.0)\n",
      "Requirement already satisfied: keras-preprocessing>=1.0.5 in c:\\users\\jimp\\anaconda3\\envs\\algotrading\\lib\\site-packages (from tensorflow-gpu==1.15.0) (1.1.2)\n",
      "Requirement already satisfied: google-pasta>=0.1.6 in c:\\users\\jimp\\anaconda3\\envs\\algotrading\\lib\\site-packages (from tensorflow-gpu==1.15.0) (0.2.0)\n",
      "Requirement already satisfied: termcolor>=1.1.0 in c:\\users\\jimp\\anaconda3\\envs\\algotrading\\lib\\site-packages (from tensorflow-gpu==1.15.0) (1.1.0)\n",
      "Requirement already satisfied: wheel>=0.26 in c:\\users\\jimp\\anaconda3\\envs\\algotrading\\lib\\site-packages (from tensorflow-gpu==1.15.0) (0.37.1)\n",
      "Requirement already satisfied: astor>=0.6.0 in c:\\users\\jimp\\anaconda3\\envs\\algotrading\\lib\\site-packages (from tensorflow-gpu==1.15.0) (0.8.1)\n",
      "Requirement already satisfied: gast==0.2.2 in c:\\users\\jimp\\anaconda3\\envs\\algotrading\\lib\\site-packages (from tensorflow-gpu==1.15.0) (0.2.2)\n",
      "Requirement already satisfied: six>=1.10.0 in c:\\users\\jimp\\anaconda3\\envs\\algotrading\\lib\\site-packages (from tensorflow-gpu==1.15.0) (1.16.0)\n",
      "Requirement already satisfied: numpy<2.0,>=1.16.0 in c:\\users\\jimp\\anaconda3\\envs\\algotrading\\lib\\site-packages (from tensorflow-gpu==1.15.0) (1.21.5)\n",
      "Requirement already satisfied: tensorflow-estimator==1.15.1 in c:\\users\\jimp\\anaconda3\\envs\\algotrading\\lib\\site-packages (from tensorflow-gpu==1.15.0) (1.15.1)\n",
      "Requirement already satisfied: keras-applications>=1.0.8 in c:\\users\\jimp\\anaconda3\\envs\\algotrading\\lib\\site-packages (from tensorflow-gpu==1.15.0) (1.0.8)\n",
      "Requirement already satisfied: wrapt>=1.11.1 in c:\\users\\jimp\\anaconda3\\envs\\algotrading\\lib\\site-packages (from tensorflow-gpu==1.15.0) (1.12.1)\n",
      "Requirement already satisfied: grpcio>=1.8.6 in c:\\users\\jimp\\anaconda3\\envs\\algotrading\\lib\\site-packages (from tensorflow-gpu==1.15.0) (1.42.0)\n",
      "Requirement already satisfied: joblib in c:\\users\\jimp\\anaconda3\\envs\\algotrading\\lib\\site-packages (from stable-baselines) (1.1.0)\n",
      "Requirement already satisfied: matplotlib in c:\\users\\jimp\\anaconda3\\envs\\algotrading\\lib\\site-packages (from stable-baselines) (3.5.1)\n",
      "Requirement already satisfied: scipy in c:\\users\\jimp\\anaconda3\\envs\\algotrading\\lib\\site-packages (from stable-baselines) (1.7.3)\n",
      "Requirement already satisfied: pandas in c:\\users\\jimp\\anaconda3\\envs\\algotrading\\lib\\site-packages (from stable-baselines) (1.3.5)\n",
      "Requirement already satisfied: opencv-python in c:\\users\\jimp\\anaconda3\\envs\\algotrading\\lib\\site-packages (from stable-baselines) (4.6.0.66)\n",
      "Requirement already satisfied: cloudpickle>=0.5.5 in c:\\users\\jimp\\anaconda3\\envs\\algotrading\\lib\\site-packages (from stable-baselines) (2.0.0)\n",
      "Requirement already satisfied: importlib-metadata>=4.8.1 in c:\\users\\jimp\\anaconda3\\envs\\algotrading\\lib\\site-packages (from gym) (4.11.3)\n",
      "Requirement already satisfied: ale-py~=0.7.1 in c:\\users\\jimp\\anaconda3\\envs\\algotrading\\lib\\site-packages (from gym) (0.7.5)\n",
      "Requirement already satisfied: pyglet>=1.4.0 in c:\\users\\jimp\\anaconda3\\envs\\algotrading\\lib\\site-packages (from gym) (1.5.26)\n",
      "Requirement already satisfied: importlib-resources in c:\\users\\jimp\\anaconda3\\envs\\algotrading\\lib\\site-packages (from ale-py~=0.7.1->gym) (5.2.0)\n",
      "Requirement already satisfied: zipp>=0.5 in c:\\users\\jimp\\anaconda3\\envs\\algotrading\\lib\\site-packages (from importlib-metadata>=4.8.1->gym) (3.7.0)\n",
      "Requirement already satisfied: typing-extensions>=3.6.4 in c:\\users\\jimp\\anaconda3\\envs\\algotrading\\lib\\site-packages (from importlib-metadata>=4.8.1->gym) (4.1.1)\n",
      "Requirement already satisfied: h5py in c:\\users\\jimp\\anaconda3\\envs\\algotrading\\lib\\site-packages (from keras-applications>=1.0.8->tensorflow-gpu==1.15.0) (2.10.0)\n",
      "Requirement already satisfied: pyparsing>=2.2.1 in c:\\users\\jimp\\anaconda3\\envs\\algotrading\\lib\\site-packages (from matplotlib->stable-baselines) (3.0.4)\n",
      "Requirement already satisfied: fonttools>=4.22.0 in c:\\users\\jimp\\anaconda3\\envs\\algotrading\\lib\\site-packages (from matplotlib->stable-baselines) (4.25.0)\n",
      "Requirement already satisfied: cycler>=0.10 in c:\\users\\jimp\\anaconda3\\envs\\algotrading\\lib\\site-packages (from matplotlib->stable-baselines) (0.11.0)\n",
      "Requirement already satisfied: python-dateutil>=2.7 in c:\\users\\jimp\\anaconda3\\envs\\algotrading\\lib\\site-packages (from matplotlib->stable-baselines) (2.8.2)\n",
      "Requirement already satisfied: pillow>=6.2.0 in c:\\users\\jimp\\anaconda3\\envs\\algotrading\\lib\\site-packages (from matplotlib->stable-baselines) (9.0.1)\n",
      "Requirement already satisfied: kiwisolver>=1.0.1 in c:\\users\\jimp\\anaconda3\\envs\\algotrading\\lib\\site-packages (from matplotlib->stable-baselines) (1.3.2)\n",
      "Requirement already satisfied: packaging>=20.0 in c:\\users\\jimp\\anaconda3\\envs\\algotrading\\lib\\site-packages (from matplotlib->stable-baselines) (21.3)\n",
      "Requirement already satisfied: pytz>=2017.3 in c:\\users\\jimp\\anaconda3\\envs\\algotrading\\lib\\site-packages (from pandas->stable-baselines) (2021.3)\n",
      "Requirement already satisfied: setuptools>=41.0.0 in c:\\users\\jimp\\anaconda3\\envs\\algotrading\\lib\\site-packages (from tensorboard<1.16.0,>=1.15.0->tensorflow-gpu==1.15.0) (61.2.0)\n",
      "Requirement already satisfied: werkzeug>=0.11.15 in c:\\users\\jimp\\anaconda3\\envs\\algotrading\\lib\\site-packages (from tensorboard<1.16.0,>=1.15.0->tensorflow-gpu==1.15.0) (2.0.3)\n",
      "Requirement already satisfied: markdown>=2.6.8 in c:\\users\\jimp\\anaconda3\\envs\\algotrading\\lib\\site-packages (from tensorboard<1.16.0,>=1.15.0->tensorflow-gpu==1.15.0) (3.3.4)\n",
      "Requirement already satisfied: hvplot in c:\\users\\jimp\\anaconda3\\envs\\algotrading\\lib\\site-packages (0.7.3)\n",
      "Requirement already satisfied: numpy>=1.15 in c:\\users\\jimp\\anaconda3\\envs\\algotrading\\lib\\site-packages (from hvplot) (1.21.5)\n",
      "Requirement already satisfied: holoviews>=1.11.0 in c:\\users\\jimp\\anaconda3\\envs\\algotrading\\lib\\site-packages (from hvplot) (1.14.8)\n",
      "Requirement already satisfied: bokeh>=1.0.0 in c:\\users\\jimp\\anaconda3\\envs\\algotrading\\lib\\site-packages (from hvplot) (2.4.2)\n",
      "Requirement already satisfied: colorcet>=2 in c:\\users\\jimp\\anaconda3\\envs\\algotrading\\lib\\site-packages (from hvplot) (2.0.6)\n",
      "Requirement already satisfied: pandas in c:\\users\\jimp\\anaconda3\\envs\\algotrading\\lib\\site-packages (from hvplot) (1.3.5)\n",
      "Requirement already satisfied: PyYAML>=3.10 in c:\\users\\jimp\\anaconda3\\envs\\algotrading\\lib\\site-packages (from bokeh>=1.0.0->hvplot) (6.0)\n",
      "Requirement already satisfied: tornado>=5.1 in c:\\users\\jimp\\anaconda3\\envs\\algotrading\\lib\\site-packages (from bokeh>=1.0.0->hvplot) (6.1)\n",
      "Requirement already satisfied: Jinja2>=2.9 in c:\\users\\jimp\\anaconda3\\envs\\algotrading\\lib\\site-packages (from bokeh>=1.0.0->hvplot) (2.11.3)\n",
      "Requirement already satisfied: typing-extensions>=3.10.0 in c:\\users\\jimp\\anaconda3\\envs\\algotrading\\lib\\site-packages (from bokeh>=1.0.0->hvplot) (4.1.1)\n",
      "Requirement already satisfied: packaging>=16.8 in c:\\users\\jimp\\anaconda3\\envs\\algotrading\\lib\\site-packages (from bokeh>=1.0.0->hvplot) (21.3)\n",
      "Requirement already satisfied: pillow>=7.1.0 in c:\\users\\jimp\\anaconda3\\envs\\algotrading\\lib\\site-packages (from bokeh>=1.0.0->hvplot) (9.0.1)\n",
      "Requirement already satisfied: param>=1.7.0 in c:\\users\\jimp\\anaconda3\\envs\\algotrading\\lib\\site-packages (from colorcet>=2->hvplot) (1.12.0)\n",
      "Requirement already satisfied: pyct>=0.4.4 in c:\\users\\jimp\\anaconda3\\envs\\algotrading\\lib\\site-packages (from colorcet>=2->hvplot) (0.4.8)\n",
      "Requirement already satisfied: panel>=0.8.0 in c:\\users\\jimp\\anaconda3\\envs\\algotrading\\lib\\site-packages (from holoviews>=1.11.0->hvplot) (0.13.0)\n",
      "Requirement already satisfied: pyviz-comms>=0.7.4 in c:\\users\\jimp\\anaconda3\\envs\\algotrading\\lib\\site-packages (from holoviews>=1.11.0->hvplot) (2.0.2)\n",
      "Requirement already satisfied: MarkupSafe>=0.23 in c:\\users\\jimp\\anaconda3\\envs\\algotrading\\lib\\site-packages (from Jinja2>=2.9->bokeh>=1.0.0->hvplot) (2.0.1)\n",
      "Requirement already satisfied: pyparsing!=3.0.5,>=2.0.2 in c:\\users\\jimp\\anaconda3\\envs\\algotrading\\lib\\site-packages (from packaging>=16.8->bokeh>=1.0.0->hvplot) (3.0.4)\n",
      "Requirement already satisfied: python-dateutil>=2.7.3 in c:\\users\\jimp\\anaconda3\\envs\\algotrading\\lib\\site-packages (from pandas->hvplot) (2.8.2)\n",
      "Requirement already satisfied: pytz>=2017.3 in c:\\users\\jimp\\anaconda3\\envs\\algotrading\\lib\\site-packages (from pandas->hvplot) (2021.3)\n",
      "Requirement already satisfied: tqdm>=4.48.0 in c:\\users\\jimp\\anaconda3\\envs\\algotrading\\lib\\site-packages (from panel>=0.8.0->holoviews>=1.11.0->hvplot) (4.64.0)\n",
      "Requirement already satisfied: markdown in c:\\users\\jimp\\anaconda3\\envs\\algotrading\\lib\\site-packages (from panel>=0.8.0->holoviews>=1.11.0->hvplot) (3.3.4)\n",
      "Requirement already satisfied: requests in c:\\users\\jimp\\anaconda3\\envs\\algotrading\\lib\\site-packages (from panel>=0.8.0->holoviews>=1.11.0->hvplot) (2.27.1)\n",
      "Requirement already satisfied: bleach in c:\\users\\jimp\\anaconda3\\envs\\algotrading\\lib\\site-packages (from panel>=0.8.0->holoviews>=1.11.0->hvplot) (4.1.0)\n",
      "Requirement already satisfied: six>=1.5 in c:\\users\\jimp\\anaconda3\\envs\\algotrading\\lib\\site-packages (from python-dateutil>=2.7.3->pandas->hvplot) (1.16.0)\n",
      "Requirement already satisfied: colorama in c:\\users\\jimp\\anaconda3\\envs\\algotrading\\lib\\site-packages (from tqdm>=4.48.0->panel>=0.8.0->holoviews>=1.11.0->hvplot) (0.4.4)\n",
      "Requirement already satisfied: webencodings in c:\\users\\jimp\\anaconda3\\envs\\algotrading\\lib\\site-packages (from bleach->panel>=0.8.0->holoviews>=1.11.0->hvplot) (0.5.1)\n",
      "Requirement already satisfied: importlib-metadata in c:\\users\\jimp\\anaconda3\\envs\\algotrading\\lib\\site-packages (from markdown->panel>=0.8.0->holoviews>=1.11.0->hvplot) (4.11.3)\n",
      "Requirement already satisfied: zipp>=0.5 in c:\\users\\jimp\\anaconda3\\envs\\algotrading\\lib\\site-packages (from importlib-metadata->markdown->panel>=0.8.0->holoviews>=1.11.0->hvplot) (3.7.0)\n",
      "Requirement already satisfied: certifi>=2017.4.17 in c:\\users\\jimp\\anaconda3\\envs\\algotrading\\lib\\site-packages (from requests->panel>=0.8.0->holoviews>=1.11.0->hvplot) (2021.10.8)\n",
      "Requirement already satisfied: idna<4,>=2.5 in c:\\users\\jimp\\anaconda3\\envs\\algotrading\\lib\\site-packages (from requests->panel>=0.8.0->holoviews>=1.11.0->hvplot) (3.3)\n",
      "Requirement already satisfied: urllib3<1.27,>=1.21.1 in c:\\users\\jimp\\anaconda3\\envs\\algotrading\\lib\\site-packages (from requests->panel>=0.8.0->holoviews>=1.11.0->hvplot) (1.26.9)\n",
      "Requirement already satisfied: charset-normalizer~=2.0.0 in c:\\users\\jimp\\anaconda3\\envs\\algotrading\\lib\\site-packages (from requests->panel>=0.8.0->holoviews>=1.11.0->hvplot) (2.0.4)\n",
      "Requirement already satisfied: yfinance in c:\\users\\jimp\\anaconda3\\envs\\algotrading\\lib\\site-packages (0.1.74)\n",
      "Requirement already satisfied: lxml>=4.5.1 in c:\\users\\jimp\\anaconda3\\envs\\algotrading\\lib\\site-packages (from yfinance) (4.8.0)\n",
      "Requirement already satisfied: pandas>=0.24.0 in c:\\users\\jimp\\anaconda3\\envs\\algotrading\\lib\\site-packages (from yfinance) (1.3.5)\n",
      "Requirement already satisfied: numpy>=1.15 in c:\\users\\jimp\\anaconda3\\envs\\algotrading\\lib\\site-packages (from yfinance) (1.21.5)\n",
      "Requirement already satisfied: multitasking>=0.0.7 in c:\\users\\jimp\\anaconda3\\envs\\algotrading\\lib\\site-packages (from yfinance) (0.0.11)\n",
      "Requirement already satisfied: requests>=2.26 in c:\\users\\jimp\\anaconda3\\envs\\algotrading\\lib\\site-packages (from yfinance) (2.27.1)\n",
      "Requirement already satisfied: pytz>=2017.3 in c:\\users\\jimp\\anaconda3\\envs\\algotrading\\lib\\site-packages (from pandas>=0.24.0->yfinance) (2021.3)\n",
      "Requirement already satisfied: python-dateutil>=2.7.3 in c:\\users\\jimp\\anaconda3\\envs\\algotrading\\lib\\site-packages (from pandas>=0.24.0->yfinance) (2.8.2)\n",
      "Requirement already satisfied: six>=1.5 in c:\\users\\jimp\\anaconda3\\envs\\algotrading\\lib\\site-packages (from python-dateutil>=2.7.3->pandas>=0.24.0->yfinance) (1.16.0)\n",
      "Requirement already satisfied: idna<4,>=2.5 in c:\\users\\jimp\\anaconda3\\envs\\algotrading\\lib\\site-packages (from requests>=2.26->yfinance) (3.3)\n",
      "Requirement already satisfied: certifi>=2017.4.17 in c:\\users\\jimp\\anaconda3\\envs\\algotrading\\lib\\site-packages (from requests>=2.26->yfinance) (2021.10.8)\n",
      "Requirement already satisfied: charset-normalizer~=2.0.0 in c:\\users\\jimp\\anaconda3\\envs\\algotrading\\lib\\site-packages (from requests>=2.26->yfinance) (2.0.4)\n",
      "Requirement already satisfied: urllib3<1.27,>=1.21.1 in c:\\users\\jimp\\anaconda3\\envs\\algotrading\\lib\\site-packages (from requests>=2.26->yfinance) (1.26.9)\n",
      "Requirement already satisfied: YahooFinancials in c:\\users\\jimp\\anaconda3\\envs\\algotrading\\lib\\site-packages (1.6)\n",
      "Requirement already satisfied: pytz in c:\\users\\jimp\\anaconda3\\envs\\algotrading\\lib\\site-packages (from YahooFinancials) (2021.3)\n",
      "Requirement already satisfied: beautifulsoup4 in c:\\users\\jimp\\anaconda3\\envs\\algotrading\\lib\\site-packages (from YahooFinancials) (4.11.1)\n",
      "Requirement already satisfied: soupsieve>1.2 in c:\\users\\jimp\\anaconda3\\envs\\algotrading\\lib\\site-packages (from beautifulsoup4->YahooFinancials) (2.3.1)\n"
     ]
    }
   ],
   "source": [
    "import os\n",
    "import requests\n",
    "import pandas as pd\n",
    "import numpy as np \n",
    "import seaborn as sns \n",
    "!pip install tensorflow-gpu==1.15.0 tensorflow==1.15.0 stable-baselines gym-anytrading gym\n",
    "\n",
    "\n",
    "#from stable_baselines.com.vec_env import DummyVecEnv\n",
    "#import gym_anytrading\n",
    "!pip install hvplot\n",
    "import hvplot.pandas\n",
    "import matplotlib.pyplot as plt\n",
    "!pip install yfinance\n",
    "!pip install YahooFinancials\n",
    "#!pip install fdpf\n",
    "\n",
    "\n",
    "import yfinance as yf\n",
    "from finta import TA\n",
    "\n",
    "%matplotlib inline\n",
    "#streamlit or tableau of \n"
   ]
  },
  {
   "cell_type": "code",
   "execution_count": 56,
   "id": "bd29d515-3678-4688-bde0-f2c189ee4c8e",
   "metadata": {
    "jupyter": {
     "source_hidden": true
    },
    "tags": []
   },
   "outputs": [],
   "source": [
    "import yfinance as yf\n",
    "from yahoofinancials import YahooFinancials"
   ]
  },
  {
   "cell_type": "code",
   "execution_count": 57,
   "id": "b5baa2ae-6ce4-45cb-ae2d-214f6bbf3ab2",
   "metadata": {},
   "outputs": [
    {
     "name": "stdout",
     "output_type": "stream",
     "text": [
      "[*********************100%***********************]  1 of 1 completed\n"
     ]
    }
   ],
   "source": [
    "xeroasx = yf.download('XRO.AX', start = '2018-01-01', end = '2022-08-01')"
   ]
  },
  {
   "cell_type": "code",
   "execution_count": 58,
   "id": "b42f0bd2-f7fb-48fe-9723-adbe79df5567",
   "metadata": {},
   "outputs": [],
   "source": [
    "#This is but one share that has performed well on the Australian share market so we could enhance this for stock selection in a streamlit \n"
   ]
  },
  {
   "cell_type": "code",
   "execution_count": 59,
   "id": "f4dda5dd-cff0-4760-b697-720b15722652",
   "metadata": {},
   "outputs": [],
   "source": [
    "def MACD(xeroasx): \n",
    "    xeroasx['EMA12'] = xeroasx.Close.ewm(span=12).mean()\n",
    "    xeroasx['EMA26'] = xeroasx.Close.ewm(span=26).mean()\n",
    "    xeroasx['MACD'] = xeroasx.EMA12-xeroasx.EMA26\n",
    "    xeroasx['signal'] = xeroasx.MACD.ewm(span=9).mean() \n",
    "    print (\"indicators added\") "
   ]
  },
  {
   "cell_type": "code",
   "execution_count": 60,
   "id": "5382a6d3-dfa3-46d6-9969-510be4622859",
   "metadata": {},
   "outputs": [
    {
     "ename": "TypeError",
     "evalue": "MACD() missing 1 required positional argument: 'xeroasx'",
     "output_type": "error",
     "traceback": [
      "\u001b[1;31m---------------------------------------------------------------------------\u001b[0m",
      "\u001b[1;31mTypeError\u001b[0m                                 Traceback (most recent call last)",
      "\u001b[1;32m~\\AppData\\Local\\Temp\\ipykernel_25444\\3816362390.py\u001b[0m in \u001b[0;36m<module>\u001b[1;34m\u001b[0m\n\u001b[1;32m----> 1\u001b[1;33m \u001b[0mMACD\u001b[0m\u001b[1;33m(\u001b[0m\u001b[1;33m)\u001b[0m\u001b[1;33m\u001b[0m\u001b[1;33m\u001b[0m\u001b[0m\n\u001b[0m",
      "\u001b[1;31mTypeError\u001b[0m: MACD() missing 1 required positional argument: 'xeroasx'"
     ]
    }
   ],
   "source": [
    "MACD() "
   ]
  },
  {
   "cell_type": "code",
   "execution_count": 61,
   "id": "d1eae762-0bc3-4aaf-b552-d40afd42ee77",
   "metadata": {},
   "outputs": [
    {
     "data": {
      "text/html": [
       "<div>\n",
       "<style scoped>\n",
       "    .dataframe tbody tr th:only-of-type {\n",
       "        vertical-align: middle;\n",
       "    }\n",
       "\n",
       "    .dataframe tbody tr th {\n",
       "        vertical-align: top;\n",
       "    }\n",
       "\n",
       "    .dataframe thead th {\n",
       "        text-align: right;\n",
       "    }\n",
       "</style>\n",
       "<table border=\"1\" class=\"dataframe\">\n",
       "  <thead>\n",
       "    <tr style=\"text-align: right;\">\n",
       "      <th></th>\n",
       "      <th>Open</th>\n",
       "      <th>High</th>\n",
       "      <th>Low</th>\n",
       "      <th>Close</th>\n",
       "      <th>Adj Close</th>\n",
       "      <th>Volume</th>\n",
       "    </tr>\n",
       "    <tr>\n",
       "      <th>Date</th>\n",
       "      <th></th>\n",
       "      <th></th>\n",
       "      <th></th>\n",
       "      <th></th>\n",
       "      <th></th>\n",
       "      <th></th>\n",
       "    </tr>\n",
       "  </thead>\n",
       "  <tbody>\n",
       "    <tr>\n",
       "      <th>2018-01-02</th>\n",
       "      <td>28.719999</td>\n",
       "      <td>28.850000</td>\n",
       "      <td>28.180000</td>\n",
       "      <td>28.350000</td>\n",
       "      <td>28.350000</td>\n",
       "      <td>33682</td>\n",
       "    </tr>\n",
       "    <tr>\n",
       "      <th>2018-01-03</th>\n",
       "      <td>28.850000</td>\n",
       "      <td>28.850000</td>\n",
       "      <td>28.250000</td>\n",
       "      <td>28.700001</td>\n",
       "      <td>28.700001</td>\n",
       "      <td>133086</td>\n",
       "    </tr>\n",
       "    <tr>\n",
       "      <th>2018-01-04</th>\n",
       "      <td>28.719999</td>\n",
       "      <td>28.719999</td>\n",
       "      <td>28.260000</td>\n",
       "      <td>28.549999</td>\n",
       "      <td>28.549999</td>\n",
       "      <td>147271</td>\n",
       "    </tr>\n",
       "    <tr>\n",
       "      <th>2018-01-05</th>\n",
       "      <td>28.650000</td>\n",
       "      <td>29.049999</td>\n",
       "      <td>28.530001</td>\n",
       "      <td>28.900000</td>\n",
       "      <td>28.900000</td>\n",
       "      <td>145177</td>\n",
       "    </tr>\n",
       "    <tr>\n",
       "      <th>2018-01-08</th>\n",
       "      <td>29.070000</td>\n",
       "      <td>29.639999</td>\n",
       "      <td>29.070000</td>\n",
       "      <td>29.480000</td>\n",
       "      <td>29.480000</td>\n",
       "      <td>198755</td>\n",
       "    </tr>\n",
       "    <tr>\n",
       "      <th>...</th>\n",
       "      <td>...</td>\n",
       "      <td>...</td>\n",
       "      <td>...</td>\n",
       "      <td>...</td>\n",
       "      <td>...</td>\n",
       "      <td>...</td>\n",
       "    </tr>\n",
       "    <tr>\n",
       "      <th>2022-07-25</th>\n",
       "      <td>90.440002</td>\n",
       "      <td>90.980003</td>\n",
       "      <td>88.720001</td>\n",
       "      <td>90.260002</td>\n",
       "      <td>90.260002</td>\n",
       "      <td>608109</td>\n",
       "    </tr>\n",
       "    <tr>\n",
       "      <th>2022-07-26</th>\n",
       "      <td>89.120003</td>\n",
       "      <td>89.550003</td>\n",
       "      <td>87.699997</td>\n",
       "      <td>89.129997</td>\n",
       "      <td>89.129997</td>\n",
       "      <td>321185</td>\n",
       "    </tr>\n",
       "    <tr>\n",
       "      <th>2022-07-27</th>\n",
       "      <td>87.809998</td>\n",
       "      <td>90.000000</td>\n",
       "      <td>87.809998</td>\n",
       "      <td>89.589996</td>\n",
       "      <td>89.589996</td>\n",
       "      <td>321073</td>\n",
       "    </tr>\n",
       "    <tr>\n",
       "      <th>2022-07-28</th>\n",
       "      <td>92.599998</td>\n",
       "      <td>94.430000</td>\n",
       "      <td>90.089996</td>\n",
       "      <td>90.940002</td>\n",
       "      <td>90.940002</td>\n",
       "      <td>441296</td>\n",
       "    </tr>\n",
       "    <tr>\n",
       "      <th>2022-07-29</th>\n",
       "      <td>92.410004</td>\n",
       "      <td>94.080002</td>\n",
       "      <td>90.900002</td>\n",
       "      <td>92.989998</td>\n",
       "      <td>92.989998</td>\n",
       "      <td>430209</td>\n",
       "    </tr>\n",
       "  </tbody>\n",
       "</table>\n",
       "<p>1159 rows × 6 columns</p>\n",
       "</div>"
      ],
      "text/plain": [
       "                 Open       High        Low      Close  Adj Close  Volume\n",
       "Date                                                                     \n",
       "2018-01-02  28.719999  28.850000  28.180000  28.350000  28.350000   33682\n",
       "2018-01-03  28.850000  28.850000  28.250000  28.700001  28.700001  133086\n",
       "2018-01-04  28.719999  28.719999  28.260000  28.549999  28.549999  147271\n",
       "2018-01-05  28.650000  29.049999  28.530001  28.900000  28.900000  145177\n",
       "2018-01-08  29.070000  29.639999  29.070000  29.480000  29.480000  198755\n",
       "...               ...        ...        ...        ...        ...     ...\n",
       "2022-07-25  90.440002  90.980003  88.720001  90.260002  90.260002  608109\n",
       "2022-07-26  89.120003  89.550003  87.699997  89.129997  89.129997  321185\n",
       "2022-07-27  87.809998  90.000000  87.809998  89.589996  89.589996  321073\n",
       "2022-07-28  92.599998  94.430000  90.089996  90.940002  90.940002  441296\n",
       "2022-07-29  92.410004  94.080002  90.900002  92.989998  92.989998  430209\n",
       "\n",
       "[1159 rows x 6 columns]"
      ]
     },
     "execution_count": 61,
     "metadata": {},
     "output_type": "execute_result"
    }
   ],
   "source": [
    "xeroasx"
   ]
  },
  {
   "cell_type": "code",
   "execution_count": 62,
   "id": "f3ad255f-6d0d-44db-91a5-2c5abf3fcd62",
   "metadata": {},
   "outputs": [
    {
     "ename": "AttributeError",
     "evalue": "'DataFrame' object has no attribute 'signal'",
     "output_type": "error",
     "traceback": [
      "\u001b[1;31m---------------------------------------------------------------------------\u001b[0m",
      "\u001b[1;31mAttributeError\u001b[0m                            Traceback (most recent call last)",
      "\u001b[1;32m~\\AppData\\Local\\Temp\\ipykernel_25444\\4275909981.py\u001b[0m in \u001b[0;36m<module>\u001b[1;34m\u001b[0m\n\u001b[1;32m----> 1\u001b[1;33m \u001b[0mplt\u001b[0m\u001b[1;33m.\u001b[0m\u001b[0mplot\u001b[0m\u001b[1;33m(\u001b[0m\u001b[0mxeroasx\u001b[0m\u001b[1;33m.\u001b[0m\u001b[0msignal\u001b[0m\u001b[1;33m,\u001b[0m \u001b[0mlabel\u001b[0m \u001b[1;33m=\u001b[0m \u001b[1;34m'signal'\u001b[0m\u001b[1;33m,\u001b[0m \u001b[0mcolor\u001b[0m \u001b[1;33m=\u001b[0m \u001b[1;34m'red'\u001b[0m\u001b[1;33m)\u001b[0m\u001b[1;33m\u001b[0m\u001b[1;33m\u001b[0m\u001b[0m\n\u001b[0m\u001b[0;32m      2\u001b[0m \u001b[0mplt\u001b[0m\u001b[1;33m.\u001b[0m\u001b[0mplot\u001b[0m\u001b[1;33m(\u001b[0m\u001b[0mxeroasx\u001b[0m\u001b[1;33m.\u001b[0m\u001b[0mMACD\u001b[0m\u001b[1;33m,\u001b[0m \u001b[0mlabel\u001b[0m \u001b[1;33m=\u001b[0m \u001b[1;34m'MACD'\u001b[0m\u001b[1;33m,\u001b[0m \u001b[0mcolor\u001b[0m \u001b[1;33m=\u001b[0m \u001b[1;34m'green'\u001b[0m\u001b[1;33m)\u001b[0m\u001b[1;33m\u001b[0m\u001b[1;33m\u001b[0m\u001b[0m\n\u001b[0;32m      3\u001b[0m \u001b[0mplt\u001b[0m\u001b[1;33m.\u001b[0m\u001b[0mlegend\u001b[0m\u001b[1;33m(\u001b[0m\u001b[1;33m)\u001b[0m\u001b[1;33m\u001b[0m\u001b[1;33m\u001b[0m\u001b[0m\n\u001b[0;32m      4\u001b[0m \u001b[0mplt\u001b[0m\u001b[1;33m.\u001b[0m\u001b[0mshow\u001b[0m\u001b[1;33m(\u001b[0m\u001b[1;33m)\u001b[0m\u001b[1;33m\u001b[0m\u001b[1;33m\u001b[0m\u001b[0m\n\u001b[0;32m      5\u001b[0m \u001b[1;33m\u001b[0m\u001b[0m\n",
      "\u001b[1;32m~\\anaconda3\\envs\\algotrading\\lib\\site-packages\\pandas\\core\\generic.py\u001b[0m in \u001b[0;36m__getattr__\u001b[1;34m(self, name)\u001b[0m\n\u001b[0;32m   5485\u001b[0m         ):\n\u001b[0;32m   5486\u001b[0m             \u001b[1;32mreturn\u001b[0m \u001b[0mself\u001b[0m\u001b[1;33m[\u001b[0m\u001b[0mname\u001b[0m\u001b[1;33m]\u001b[0m\u001b[1;33m\u001b[0m\u001b[1;33m\u001b[0m\u001b[0m\n\u001b[1;32m-> 5487\u001b[1;33m         \u001b[1;32mreturn\u001b[0m \u001b[0mobject\u001b[0m\u001b[1;33m.\u001b[0m\u001b[0m__getattribute__\u001b[0m\u001b[1;33m(\u001b[0m\u001b[0mself\u001b[0m\u001b[1;33m,\u001b[0m \u001b[0mname\u001b[0m\u001b[1;33m)\u001b[0m\u001b[1;33m\u001b[0m\u001b[1;33m\u001b[0m\u001b[0m\n\u001b[0m\u001b[0;32m   5488\u001b[0m \u001b[1;33m\u001b[0m\u001b[0m\n\u001b[0;32m   5489\u001b[0m     \u001b[1;32mdef\u001b[0m \u001b[0m__setattr__\u001b[0m\u001b[1;33m(\u001b[0m\u001b[0mself\u001b[0m\u001b[1;33m,\u001b[0m \u001b[0mname\u001b[0m\u001b[1;33m:\u001b[0m \u001b[0mstr\u001b[0m\u001b[1;33m,\u001b[0m \u001b[0mvalue\u001b[0m\u001b[1;33m)\u001b[0m \u001b[1;33m->\u001b[0m \u001b[1;32mNone\u001b[0m\u001b[1;33m:\u001b[0m\u001b[1;33m\u001b[0m\u001b[1;33m\u001b[0m\u001b[0m\n",
      "\u001b[1;31mAttributeError\u001b[0m: 'DataFrame' object has no attribute 'signal'"
     ]
    }
   ],
   "source": [
    "plt.plot(xeroasx.signal, label = 'signal', color = 'red')\n",
    "plt.plot(xeroasx.MACD, label = 'MACD', color = 'green') \n",
    "plt.legend() \n",
    "plt.show() \n",
    "         "
   ]
  },
  {
   "cell_type": "code",
   "execution_count": 63,
   "id": "99a1a9df-6117-4bad-a0f9-c716b0bd2f88",
   "metadata": {},
   "outputs": [
    {
     "ename": "AttributeError",
     "evalue": "'DataFrame' object has no attribute 'MACD'",
     "output_type": "error",
     "traceback": [
      "\u001b[1;31m---------------------------------------------------------------------------\u001b[0m",
      "\u001b[1;31mAttributeError\u001b[0m                            Traceback (most recent call last)",
      "\u001b[1;32m~\\AppData\\Local\\Temp\\ipykernel_25444\\2558228718.py\u001b[0m in \u001b[0;36m<module>\u001b[1;34m\u001b[0m\n\u001b[0;32m      1\u001b[0m \u001b[0mBuy\u001b[0m\u001b[1;33m,\u001b[0m \u001b[0mSell\u001b[0m \u001b[1;33m=\u001b[0m \u001b[1;33m[\u001b[0m\u001b[1;33m]\u001b[0m\u001b[1;33m,\u001b[0m \u001b[1;33m[\u001b[0m\u001b[1;33m]\u001b[0m\u001b[1;33m\u001b[0m\u001b[1;33m\u001b[0m\u001b[0m\n\u001b[0;32m      2\u001b[0m \u001b[1;32mfor\u001b[0m \u001b[0mi\u001b[0m \u001b[1;32min\u001b[0m \u001b[0mrange\u001b[0m \u001b[1;33m(\u001b[0m\u001b[1;36m2\u001b[0m\u001b[1;33m,\u001b[0m \u001b[0mlen\u001b[0m\u001b[1;33m(\u001b[0m\u001b[0mxeroasx\u001b[0m\u001b[1;33m)\u001b[0m\u001b[1;33m)\u001b[0m\u001b[1;33m:\u001b[0m\u001b[1;33m\u001b[0m\u001b[1;33m\u001b[0m\u001b[0m\n\u001b[1;32m----> 3\u001b[1;33m     \u001b[1;32mif\u001b[0m \u001b[0mxeroasx\u001b[0m\u001b[1;33m.\u001b[0m\u001b[0mMACD\u001b[0m\u001b[1;33m.\u001b[0m\u001b[0miloc\u001b[0m\u001b[1;33m[\u001b[0m\u001b[0mi\u001b[0m\u001b[1;33m]\u001b[0m \u001b[1;33m>\u001b[0m \u001b[0mxeroasx\u001b[0m\u001b[1;33m.\u001b[0m\u001b[0msignal\u001b[0m\u001b[1;33m.\u001b[0m\u001b[0miloc\u001b[0m\u001b[1;33m[\u001b[0m\u001b[0mi\u001b[0m\u001b[1;33m]\u001b[0m \u001b[1;32mand\u001b[0m \u001b[0mxeroasx\u001b[0m\u001b[1;33m.\u001b[0m\u001b[0mMACD\u001b[0m\u001b[1;33m.\u001b[0m\u001b[0miloc\u001b[0m\u001b[1;33m[\u001b[0m\u001b[0mi\u001b[0m\u001b[1;33m-\u001b[0m\u001b[1;36m1\u001b[0m\u001b[1;33m]\u001b[0m \u001b[1;33m<\u001b[0m \u001b[0mxeroasx\u001b[0m\u001b[1;33m.\u001b[0m\u001b[0msignal\u001b[0m\u001b[1;33m.\u001b[0m\u001b[0miloc\u001b[0m\u001b[1;33m[\u001b[0m\u001b[0mi\u001b[0m\u001b[1;33m-\u001b[0m\u001b[1;36m1\u001b[0m\u001b[1;33m]\u001b[0m\u001b[1;33m:\u001b[0m\u001b[1;33m\u001b[0m\u001b[1;33m\u001b[0m\u001b[0m\n\u001b[0m\u001b[0;32m      4\u001b[0m         \u001b[0mBuy\u001b[0m\u001b[1;33m.\u001b[0m\u001b[0mappend\u001b[0m\u001b[1;33m[\u001b[0m\u001b[0mi\u001b[0m\u001b[1;33m]\u001b[0m\u001b[1;33m\u001b[0m\u001b[1;33m\u001b[0m\u001b[0m\n\u001b[0;32m      5\u001b[0m     \u001b[1;32mif\u001b[0m \u001b[0mxeroasx\u001b[0m\u001b[1;33m.\u001b[0m\u001b[0mMACD\u001b[0m\u001b[1;33m.\u001b[0m\u001b[0miloc\u001b[0m\u001b[1;33m[\u001b[0m\u001b[0mi\u001b[0m\u001b[1;33m]\u001b[0m \u001b[1;33m<\u001b[0m \u001b[0mxeroasx\u001b[0m\u001b[1;33m.\u001b[0m\u001b[0msignal\u001b[0m\u001b[1;33m.\u001b[0m\u001b[0miloc\u001b[0m\u001b[1;33m[\u001b[0m\u001b[0mi\u001b[0m\u001b[1;33m]\u001b[0m \u001b[1;32mand\u001b[0m \u001b[0mxeroasx\u001b[0m\u001b[1;33m.\u001b[0m\u001b[0mMACD\u001b[0m\u001b[1;33m.\u001b[0m\u001b[0miloc\u001b[0m\u001b[1;33m[\u001b[0m\u001b[0mi\u001b[0m\u001b[1;33m-\u001b[0m\u001b[1;36m1\u001b[0m\u001b[1;33m]\u001b[0m \u001b[1;33m>\u001b[0m \u001b[0mxeroasx\u001b[0m\u001b[1;33m.\u001b[0m\u001b[0msignal\u001b[0m\u001b[1;33m.\u001b[0m\u001b[0miloc\u001b[0m\u001b[1;33m[\u001b[0m\u001b[0mi\u001b[0m\u001b[1;33m-\u001b[0m\u001b[1;36m1\u001b[0m\u001b[1;33m]\u001b[0m\u001b[1;33m:\u001b[0m\u001b[1;33m\u001b[0m\u001b[1;33m\u001b[0m\u001b[0m\n",
      "\u001b[1;32m~\\anaconda3\\envs\\algotrading\\lib\\site-packages\\pandas\\core\\generic.py\u001b[0m in \u001b[0;36m__getattr__\u001b[1;34m(self, name)\u001b[0m\n\u001b[0;32m   5485\u001b[0m         ):\n\u001b[0;32m   5486\u001b[0m             \u001b[1;32mreturn\u001b[0m \u001b[0mself\u001b[0m\u001b[1;33m[\u001b[0m\u001b[0mname\u001b[0m\u001b[1;33m]\u001b[0m\u001b[1;33m\u001b[0m\u001b[1;33m\u001b[0m\u001b[0m\n\u001b[1;32m-> 5487\u001b[1;33m         \u001b[1;32mreturn\u001b[0m \u001b[0mobject\u001b[0m\u001b[1;33m.\u001b[0m\u001b[0m__getattribute__\u001b[0m\u001b[1;33m(\u001b[0m\u001b[0mself\u001b[0m\u001b[1;33m,\u001b[0m \u001b[0mname\u001b[0m\u001b[1;33m)\u001b[0m\u001b[1;33m\u001b[0m\u001b[1;33m\u001b[0m\u001b[0m\n\u001b[0m\u001b[0;32m   5488\u001b[0m \u001b[1;33m\u001b[0m\u001b[0m\n\u001b[0;32m   5489\u001b[0m     \u001b[1;32mdef\u001b[0m \u001b[0m__setattr__\u001b[0m\u001b[1;33m(\u001b[0m\u001b[0mself\u001b[0m\u001b[1;33m,\u001b[0m \u001b[0mname\u001b[0m\u001b[1;33m:\u001b[0m \u001b[0mstr\u001b[0m\u001b[1;33m,\u001b[0m \u001b[0mvalue\u001b[0m\u001b[1;33m)\u001b[0m \u001b[1;33m->\u001b[0m \u001b[1;32mNone\u001b[0m\u001b[1;33m:\u001b[0m\u001b[1;33m\u001b[0m\u001b[1;33m\u001b[0m\u001b[0m\n",
      "\u001b[1;31mAttributeError\u001b[0m: 'DataFrame' object has no attribute 'MACD'"
     ]
    }
   ],
   "source": [
    "Buy, Sell = [], []\n",
    "for i in range (2, len(xeroasx)):\n",
    "    if xeroasx.MACD.iloc[i] > xeroasx.signal.iloc[i] and xeroasx.MACD.iloc[i-1] < xeroasx.signal.iloc[i-1]: \n",
    "        Buy.append[i] \n",
    "    if xeroasx.MACD.iloc[i] < xeroasx.signal.iloc[i] and xeroasx.MACD.iloc[i-1] > xeroasx.signal.iloc[i-1]: \n",
    "        Sell.append[i]  "
   ]
  },
  {
   "cell_type": "code",
   "execution_count": 64,
   "id": "44c1b42d-1f87-4b99-bed4-eae4cfc73102",
   "metadata": {},
   "outputs": [
    {
     "data": {
      "text/plain": [
       "[]"
      ]
     },
     "execution_count": 64,
     "metadata": {},
     "output_type": "execute_result"
    }
   ],
   "source": [
    "Buy"
   ]
  },
  {
   "cell_type": "code",
   "execution_count": 65,
   "id": "3ee0d548-d287-4986-9a2e-7445c44da3d6",
   "metadata": {},
   "outputs": [
    {
     "data": {
      "image/png": "[encoded data removed]",
      "text/plain": [
       "<Figure size 864x288 with 1 Axes>"
      ]
     },
     "metadata": {
      "needs_background": "light"
     },
     "output_type": "display_data"
    }
   ],
   "source": [
    "plt.figure(figsize = (12, 4))\n",
    "plt.scatter(xeroasx.iloc[Buy].index, xeroasx.iloc[Buy].Close, marker =\"^\", color = 'green') \n",
    "plt.scatter(xeroasx.iloc[Sell].index, xeroasx.iloc[Sell].Close, marker =\"v\", color = 'red') \n",
    "plt.plot(xeroasx.Close, label = 'XERO Close', color ='blue') \n",
    "plt.legend() \n",
    "plt.show() "
   ]
  },
  {
   "cell_type": "code",
   "execution_count": 66,
   "id": "745d1fb0-1239-4643-a9ce-9e47cbac3c4e",
   "metadata": {
    "jupyter": {
     "source_hidden": true
    },
    "tags": []
   },
   "outputs": [],
   "source": [
    "truebuys = [i+1 for i in Buy] \n",
    "truesells = [i+1 for i in Sell] "
   ]
  },
  {
   "cell_type": "code",
   "execution_count": 67,
   "id": "443766f0-080e-4b66-812f-31cf12b44595",
   "metadata": {},
   "outputs": [],
   "source": [
    "buyprices = xeroasx.Open.iloc[truebuys]\n",
    "sellprices = xeroasx.Open.iloc[truesells]\n"
   ]
  },
  {
   "cell_type": "code",
   "execution_count": 54,
   "id": "e175d868-d9ff-42e6-97f7-174628e8f7c1",
   "metadata": {},
   "outputs": [
    {
     "data": {
      "text/plain": [
       "Series([], Name: Open, dtype: float64)"
      ]
     },
     "execution_count": 54,
     "metadata": {},
     "output_type": "execute_result"
    }
   ],
   "source": [
    "buyprices"
   ]
  },
  {
   "cell_type": "code",
   "execution_count": null,
   "id": "f08d798f-3cb7-4f7f-9c41-14ebe4a9d639",
   "metadata": {},
   "outputs": [],
   "source": [
    "if sellprices.index[0] < buyprices.index[0]: \n",
    "    sellprices = sellprices.drop(sellprices.index[0])\n",
    "elif buyprices.index[-1] > sellprices.index[-1] \n",
    "    buyprices = buyprices.drop(buyprices.index[-1]) "
   ]
  },
  {
   "cell_type": "code",
   "execution_count": null,
   "id": "92008c8a-a4b5-49e3-8e17-7afd825478cf",
   "metadata": {},
   "outputs": [],
   "source": [
    "relprofit = [] \n",
    "\n",
    "for i in range(len(sellprices)):\n",
    "    relprofits.append((sellprices[i] - buyprices[i])/(buyprices[i]) "
   ]
  },
  {
   "cell_type": "code",
   "execution_count": null,
   "id": "e2e7bf88-bc91-4799-81d0-b9f677bcfec4",
   "metadata": {},
   "outputs": [],
   "source": [
    "relprofits"
   ]
  },
  {
   "cell_type": "code",
   "execution_count": null,
   "id": "a210fa19-8912-4be5-9cf9-c2608533147d",
   "metadata": {},
   "outputs": [],
   "source": [
    "sum(relprofit)/len(relprofits)"
   ]
  }
 ],
 "metadata": {
  "kernelspec": {
   "display_name": "Python 3 (ipykernel)",
   "language": "python",
   "name": "python3"
  },
  "language_info": {
   "codemirror_mode": {
    "name": "ipython",
    "version": 3
   },
   "file_extension": ".py",
   "mimetype": "text/x-python",
   "name": "python",
   "nbconvert_exporter": "python",
   "pygments_lexer": "ipython3",
   "version": "3.7.13"
  }
 },
 "nbformat": 4,
 "nbformat_minor": 5
}
